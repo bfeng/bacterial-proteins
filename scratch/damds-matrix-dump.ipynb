{
 "cells": [
  {
   "cell_type": "code",
   "execution_count": 1,
   "metadata": {},
   "outputs": [],
   "source": [
    "import pandas as pd\n",
    "import numpy as np\n",
    "from sklearn.metrics.pairwise import euclidean_distances\n",
    "\n",
    "damds_point_file = \"/Users/bfeng/DSC-SPIDAL/applications/fungi-gene-sequence/scripts/damds/damds-points.txt.formatted\"\n",
    "damds_df = pd.read_csv(damds_point_file, usecols=[1, 2, 3], header=None, delim_whitespace=True)"
   ]
  },
  {
   "cell_type": "code",
   "execution_count": 2,
   "metadata": {},
   "outputs": [],
   "source": [
    "mds_dist_df = euclidean_distances(damds_df, damds_df)"
   ]
  },
  {
   "cell_type": "code",
   "execution_count": 3,
   "metadata": {},
   "outputs": [
    {
     "name": "stdout",
     "output_type": "stream",
     "text": [
      "[[0.         0.34883726 0.13100556 ... 0.25881718 0.15927275 0.2266322 ]\n",
      " [0.34883726 0.         0.41445106 ... 0.45214879 0.32489953 0.3344058 ]\n",
      " [0.13100556 0.41445106 0.         ... 0.19097046 0.25774926 0.19519921]\n",
      " ...\n",
      " [0.25881718 0.45214879 0.19097046 ... 0.         0.2784405  0.12129331]\n",
      " [0.15927275 0.32489953 0.25774926 ... 0.2784405  0.         0.23505564]\n",
      " [0.2266322  0.3344058  0.19519921 ... 0.12129331 0.23505564 0.        ]]\n"
     ]
    }
   ],
   "source": [
    "print(mds_dist_df)"
   ]
  },
  {
   "cell_type": "code",
   "execution_count": 6,
   "metadata": {},
   "outputs": [],
   "source": [
    "out_df = pd.DataFrame(mds_dist_df)\n",
    "out_df.to_csv(\"/Users/bfeng/DSC-SPIDAL/applications/fungi-gene-sequence/scripts/damds/mds_distance.csv\", header=False, index=False)"
   ]
  },
  {
   "cell_type": "code",
   "execution_count": null,
   "metadata": {},
   "outputs": [],
   "source": []
  }
 ],
 "metadata": {
  "kernelspec": {
   "display_name": "Python 3",
   "language": "python",
   "name": "python3"
  },
  "language_info": {
   "codemirror_mode": {
    "name": "ipython",
    "version": 3
   },
   "file_extension": ".py",
   "mimetype": "text/x-python",
   "name": "python",
   "nbconvert_exporter": "python",
   "pygments_lexer": "ipython3",
   "version": "3.6.5"
  }
 },
 "nbformat": 4,
 "nbformat_minor": 2
}
