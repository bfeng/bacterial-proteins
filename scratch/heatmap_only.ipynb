{
 "cells": [
  {
   "cell_type": "code",
   "execution_count": 1,
   "metadata": {},
   "outputs": [],
   "source": [
    "%matplotlib inline\n",
    "\n",
    "import numpy as np\n",
    "import pandas as pd\n",
    "from sklearn.metrics.pairwise import euclidean_distances\n",
    "import matplotlib.pyplot as plt\n",
    "import seaborn as sns\n",
    "\n",
    "sns.set()"
   ]
  },
  {
   "cell_type": "code",
   "execution_count": 2,
   "metadata": {},
   "outputs": [],
   "source": [
    "# data_folder = \"./2400-gene/\"\n",
    "# data_folder = \"./9556-bromberg/\"\n",
    "data_folder = \"./799-bromberg/\"\n",
    "distance_matrix = data_folder + \"distance-matrix.csv\"\n",
    "damds_points = data_folder + \"damds-points.txt\"\n",
    "heatmap_png = data_folder + \"heatmap.png\""
   ]
  },
  {
   "cell_type": "code",
   "execution_count": 3,
   "metadata": {},
   "outputs": [],
   "source": [
    "distance_df = pd.read_csv(distance_matrix, header=None)\n",
    "damds_df = pd.read_csv(damds_points, usecols=[1, 2, 3], header=None, delim_whitespace=True)"
   ]
  },
  {
   "cell_type": "code",
   "execution_count": 4,
   "metadata": {},
   "outputs": [
    {
     "name": "stdout",
     "output_type": "stream",
     "text": [
      "X size: 638401\n",
      "Y size: 638401\n"
     ]
    }
   ],
   "source": [
    "mds_dist_df = euclidean_distances(damds_df, damds_df)\n",
    "\n",
    "X = np.matrix(distance_df).getA1()\n",
    "Y = np.matrix(mds_dist_df).getA1()\n",
    "\n",
    "print(\"X size:\", len(X))\n",
    "print(\"Y size:\", len(Y))"
   ]
  },
  {
   "cell_type": "code",
   "execution_count": 5,
   "metadata": {},
   "outputs": [],
   "source": [
    "import math\n",
    "\n",
    "def get_location(v, minV, maxV, ntick):\n",
    "    tick = (maxV - minV) / ntick\n",
    "    loc = math.floor((v - minV) / tick)\n",
    "    if (loc >= ntick):\n",
    "        loc = ntick - 1\n",
    "    return loc\n",
    "\n",
    "def get_density_df(X, Y, nrow, ncol):\n",
    "    dens = np.zeros(shape=(nrow, ncol), dtype=int)\n",
    "    minX = min(X)\n",
    "    maxX = math.ceil(max(X))\n",
    "    stepX = (maxX - minX) / ncol\n",
    "    print(minX, maxX, stepX)\n",
    "    minY = min(Y)\n",
    "    maxY = math.ceil(max(Y))\n",
    "    stepY = (maxY - minY) / nrow\n",
    "    print(minY, maxY, stepY)\n",
    "    for idx in range(len(X)):\n",
    "        x = X[idx]\n",
    "        y = Y[idx]\n",
    "        j = get_location(x, minX, maxX, ncol)\n",
    "        i = get_location(y, minY, maxY, nrow)\n",
    "        # print(x, y, i, j)\n",
    "        dens[i, j] = dens[i, j] + 1\n",
    "    df = pd.DataFrame(dens,\n",
    "            index=map(\"{0:1.2f}\".format,\n",
    "                np.arange(minY, maxY, stepY, dtype=float)),\n",
    "            columns=map(\"{0:1.2f}\".format,\n",
    "                np.arange(minX, maxX, stepX, dtype=float)))\n",
    "    return df"
   ]
  },
  {
   "cell_type": "code",
   "execution_count": 6,
   "metadata": {},
   "outputs": [
    {
     "name": "stdout",
     "output_type": "stream",
     "text": [
      "0.0 1 0.01\n",
      "0.0 2 0.02\n",
      "Sum:\n",
      "638401\n"
     ]
    }
   ],
   "source": [
    "dens = get_density_df(X, Y, 100, 100)\n",
    "print(\"Sum:\")\n",
    "print(dens.values.sum())"
   ]
  },
  {
   "cell_type": "code",
   "execution_count": 7,
   "metadata": {},
   "outputs": [
    {
     "data": {
      "image/png": "[encoded data removed]",
      "text/plain": [
       "<Figure size 576x576 with 2 Axes>"
      ]
     },
     "metadata": {},
     "output_type": "display_data"
    }
   ],
   "source": [
    "# Set up the figure\n",
    "f, ax = plt.subplots(figsize=(8, 8))\n",
    "\n",
    "# colors = sns.color_palette(\"YlOrRd\", 10)\n",
    "colors = plt.get_cmap(\"gnuplot2_r\", 100)\n",
    "\n",
    "# ax.set_xlim(0, 1.5)\n",
    "# ax.set_ylim(0, 1.5)\n",
    "ax = sns.heatmap(dens,\n",
    "                 robust=True,\n",
    "                 cmap=colors,\n",
    "#                  square=True,\n",
    "                 cbar_kws = {\"shrink\":.8},\n",
    "                 ax=ax,\n",
    "#                  mask=dens==0,\n",
    "                alpha=.8)\n",
    "ax.invert_yaxis()\n",
    "#ax.set_xlim(0, 1)\n",
    "#ax.set_ylim(0, 1)\n",
    "# ax.set_xlabel(\"Score-Distance\")\n",
    "# ax.set_ylabel(\"MDS-Distance\")\n",
    "# f.suptitle(\n",
    "#     \"Heatmap of Score-Distance vs. MDS-Distance\\n\"\n",
    "#     \"Score-Distance formula: (1.0 / score - 1.0 / max) * min * max / (max - min)\\n\"\n",
    "#     \"MDS-Distance formula: Euclidean distance of x, y, z\\n\"\n",
    "#     \"Dataset: \" + data_folder\n",
    "#             )"
   ]
  },
  {
   "cell_type": "code",
   "execution_count": 8,
   "metadata": {},
   "outputs": [],
   "source": [
    "f.savefig(heatmap_png, dpi=400)"
   ]
  },
  {
   "cell_type": "code",
   "execution_count": null,
   "metadata": {},
   "outputs": [],
   "source": []
  }
 ],
 "metadata": {
  "kernelspec": {
   "display_name": "Python 3",
   "language": "python",
   "name": "python3"
  },
  "language_info": {
   "codemirror_mode": {
    "name": "ipython",
    "version": 3
   },
   "file_extension": ".py",
   "mimetype": "text/x-python",
   "name": "python",
   "nbconvert_exporter": "python",
   "pygments_lexer": "ipython3",
   "version": "3.6.5"
  }
 },
 "nbformat": 4,
 "nbformat_minor": 2
}
